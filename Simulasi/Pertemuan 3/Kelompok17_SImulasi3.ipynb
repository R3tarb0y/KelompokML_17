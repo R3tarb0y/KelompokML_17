{
 "cells": [
  {
   "cell_type": "markdown",
   "metadata": {},
   "source": [
    "# Pendahuluan\n",
    "\n",
    "Bayangkan `pandas` seperti Microsoft Excel tetapi lebih powerful dengan banyaknya fitur yang bisa dimanfaatkan. Ada 2 tipe data untuk `pandas`, yaitu data series atau kita singkat dengan Series dan data frame."
   ]
  },
  {
   "cell_type": "markdown",
   "metadata": {},
   "source": [
    "# Series\n",
    "\n",
    "Tipe data utama yang pertama kali akan kita pelajari adalah Series. Series mirip dengan Numpy array karena pada faktanya `pandas` dibangun berdasarkan Numpy array object. Yang membedakan Numpy array dengan Series adalah bahwa Series dapat memiliki label sumbu (*axis*), yang artinya suatu sampel data dapat diakses dengan label indeksnya, bukan hanya berdasarkan angka indeksnya. \n",
    "\n",
    "Kita mulai dengan memanggil pustaka `numpy` dan `pandas`:"
   ]
  },
  {
   "cell_type": "code",
   "execution_count": 1,
   "metadata": {},
   "outputs": [],
   "source": [
    "import numpy as np\n",
    "import pandas as pd"
   ]
  },
  {
   "cell_type": "markdown",
   "metadata": {},
   "source": [
    "## Membuat Suatu Series\n",
    "\n",
    "Kita dapat mengubah suatu `list`, `numpy array`, atau `dictionary` menjadi `Series`. Jalankan code di bawah ini:"
   ]
  },
  {
   "cell_type": "code",
   "execution_count": 2,
   "metadata": {},
   "outputs": [],
   "source": [
    "labels = ['a','b','c']\n",
    "my_list = [10,20,30]\n",
    "arr = np.array([10,20,30])\n",
    "d = {'a':10,'b':20,'c':30}"
   ]
  },
  {
   "cell_type": "markdown",
   "metadata": {},
   "source": [
    "### Menggunakan List"
   ]
  },
  {
   "cell_type": "code",
   "execution_count": 3,
   "metadata": {},
   "outputs": [
    {
     "data": {
      "text/plain": [
       "0    10\n",
       "1    20\n",
       "2    30\n",
       "dtype: int64"
      ]
     },
     "execution_count": 3,
     "metadata": {},
     "output_type": "execute_result"
    }
   ],
   "source": [
    "# cukup dengan menuliskan parameter input 'data' yang di assign dengan list yang sudah disiapkan\n",
    "pd.Series(data=my_list)"
   ]
  },
  {
   "cell_type": "code",
   "execution_count": 4,
   "metadata": {},
   "outputs": [
    {
     "data": {
      "text/plain": [
       "a    10\n",
       "b    20\n",
       "c    30\n",
       "dtype: int64"
      ]
     },
     "execution_count": 4,
     "metadata": {},
     "output_type": "execute_result"
    }
   ],
   "source": [
    "# bisa ditambahkan dengan parameter input 'index' untuk melabelkan setiap record datanya\n",
    "pd.Series(data=my_list,index=labels)"
   ]
  },
  {
   "cell_type": "code",
   "execution_count": 5,
   "metadata": {},
   "outputs": [
    {
     "data": {
      "text/plain": [
       "a    10\n",
       "b    20\n",
       "c    30\n",
       "dtype: int64"
      ]
     },
     "execution_count": 5,
     "metadata": {},
     "output_type": "execute_result"
    }
   ],
   "source": [
    "# secara default, 'data' dan 'index' adalah 2 parameter input pertama yang berurutan\n",
    "# sehingga dua nama ini bisa saja tidak ditulis\n",
    "pd.Series(my_list,labels)"
   ]
  },
  {
   "cell_type": "markdown",
   "metadata": {},
   "source": [
    "### Using NumPy Arrays"
   ]
  },
  {
   "cell_type": "code",
   "execution_count": 6,
   "metadata": {},
   "outputs": [
    {
     "data": {
      "text/plain": [
       "0    10\n",
       "1    20\n",
       "2    30\n",
       "dtype: int32"
      ]
     },
     "execution_count": 6,
     "metadata": {},
     "output_type": "execute_result"
    }
   ],
   "source": [
    "pd.Series(arr)"
   ]
  },
  {
   "cell_type": "code",
   "execution_count": 7,
   "metadata": {},
   "outputs": [
    {
     "data": {
      "text/plain": [
       "a    10\n",
       "b    20\n",
       "c    30\n",
       "dtype: int32"
      ]
     },
     "execution_count": 7,
     "metadata": {},
     "output_type": "execute_result"
    }
   ],
   "source": [
    "pd.Series(arr,labels)"
   ]
  },
  {
   "cell_type": "markdown",
   "metadata": {},
   "source": [
    "### Using Dictionaries"
   ]
  },
  {
   "cell_type": "code",
   "execution_count": 8,
   "metadata": {},
   "outputs": [
    {
     "data": {
      "text/plain": [
       "a    10\n",
       "b    20\n",
       "c    30\n",
       "dtype: int64"
      ]
     },
     "execution_count": 8,
     "metadata": {},
     "output_type": "execute_result"
    }
   ],
   "source": [
    "pd.Series(d)"
   ]
  },
  {
   "cell_type": "markdown",
   "metadata": {},
   "source": [
    "# Percobaan 1: \n",
    "buatlah Series dengan label nama prodi di Universitas Pertamina dengan (kira-kira) jumlah mahasiswa rata-rata dalam satu angkatan, dengan menggunakan `list`, `numpy array`, dan `dictionary`"
   ]
  },
  {
   "cell_type": "code",
   "execution_count": 78,
   "metadata": {},
   "outputs": [
    {
     "name": "stdout",
     "output_type": "stream",
     "text": [
      "ilkom      40\n",
      "kimia      30\n",
      "Elektro    20\n",
      "Ekonomi    50\n",
      "dtype: int64\n",
      "ilkom      40\n",
      "kimia      30\n",
      "Elektro    20\n",
      "Ekonomi    50\n",
      "dtype: int32\n",
      "ilkom      40\n",
      "kimia      30\n",
      "Elektro    20\n",
      "Ekonomi    50\n",
      "dtype: int64\n"
     ]
    }
   ],
   "source": [
    "# Jawab:\n",
    "prodi = [\"ilkom\", \"kimia\",\"Elektro\",\"Ekonomi\"]\n",
    "n_mhs = [40,30,20,50]\n",
    "arr_n_mhs = np.array(n_mhs)\n",
    "dic_n_mhs = {'ilkom':40,'kimia':30, 'Elektro':20, 'Ekonomi':50,}\n",
    "\n",
    "# Dengan menggunakan 'list'\n",
    "n_mhs_per_prodi = pd.Series(data=n_mhs,index =prodi)\n",
    "print(n_mhs_per_prodi)\n",
    "\n",
    "# Dengan menggunakan 'numpy array'\n",
    "n_mhs_per_prodi = pd.Series(arr_n_mhs, prodi)\n",
    "print(n_mhs_per_prodi)\n",
    "\n",
    "# Dengan menggunakan 'dictionary'\n",
    "n_mhs_per_prodi = pd.Series(dic_n_mhs)\n",
    "print(n_mhs_per_prodi)"
   ]
  },
  {
   "cell_type": "markdown",
   "metadata": {},
   "source": [
    "### Data Dalam Suatu Series\n",
    "\n",
    "Suatu Series bisa menyimpan berbagai tipe objek:"
   ]
  },
  {
   "cell_type": "code",
   "execution_count": 9,
   "metadata": {},
   "outputs": [
    {
     "data": {
      "text/plain": [
       "0    a\n",
       "1    b\n",
       "2    c\n",
       "dtype: object"
      ]
     },
     "execution_count": 9,
     "metadata": {},
     "output_type": "execute_result"
    }
   ],
   "source": [
    "# Perhatikan nilai 'dtype' sebagai tipe data di bawah ini\n",
    "pd.Series(data=labels)"
   ]
  },
  {
   "cell_type": "code",
   "execution_count": 10,
   "metadata": {},
   "outputs": [
    {
     "data": {
      "text/plain": [
       "0      <built-in function sum>\n",
       "1    <built-in function print>\n",
       "2      <built-in function len>\n",
       "dtype: object"
      ]
     },
     "execution_count": 10,
     "metadata": {},
     "output_type": "execute_result"
    }
   ],
   "source": [
    "# Bahkan Series juga bisa menyimpan 'function' dan menjadikannya bertipe objek\n",
    "pd.Series([sum,print,len])"
   ]
  },
  {
   "cell_type": "markdown",
   "metadata": {},
   "source": [
    "# Percobaan 2:\n",
    "buat satu contoh Series dengan list data yang berisikan data dengan tipe `string`, `int`, `bool`, lalu perhatikan nilai dari `dtype`-nya setelah menjadi Series"
   ]
  },
  {
   "cell_type": "code",
   "execution_count": 49,
   "metadata": {},
   "outputs": [],
   "source": [
    "a = [True, False, False, True]"
   ]
  },
  {
   "cell_type": "code",
   "execution_count": 50,
   "metadata": {},
   "outputs": [],
   "source": [
    "b = [1,2,3,4]"
   ]
  },
  {
   "cell_type": "code",
   "execution_count": 51,
   "metadata": {},
   "outputs": [],
   "source": [
    "# Jawab:\n",
    "my_series = pd.Series(b)"
   ]
  },
  {
   "cell_type": "code",
   "execution_count": 52,
   "metadata": {},
   "outputs": [
    {
     "data": {
      "text/plain": [
       "pandas.core.series.Series"
      ]
     },
     "execution_count": 52,
     "metadata": {},
     "output_type": "execute_result"
    }
   ],
   "source": [
    "type(my_series)"
   ]
  },
  {
   "cell_type": "code",
   "execution_count": 53,
   "metadata": {},
   "outputs": [
    {
     "data": {
      "text/plain": [
       "dtype('int64')"
      ]
     },
     "execution_count": 53,
     "metadata": {},
     "output_type": "execute_result"
    }
   ],
   "source": [
    "my_series.dtype"
   ]
  },
  {
   "cell_type": "markdown",
   "metadata": {},
   "source": [
    "## Menggunakan Index\n",
    "\n",
    "Kunci untuk menggunakan Series adalah memahami indeksnya. `Pandas` menggunakan nama atau angka indeks ini agar memudahkan pencarian informasi dengan cepat (berfungsi seperti *hash table* atau *dictionary*).\n",
    "\n",
    "Contoh, data nilai penjualan di beberapa negara:"
   ]
  },
  {
   "cell_type": "code",
   "execution_count": 11,
   "metadata": {},
   "outputs": [
    {
     "name": "stdout",
     "output_type": "stream",
     "text": [
      "USA       250\n",
      "China     450\n",
      "India     200\n",
      "Brazil    150\n",
      "dtype: int64\n"
     ]
    }
   ],
   "source": [
    "# dataset penjualan pertama\n",
    "sales_Q1 = pd.Series(data=[250,450,200,150],index = ['USA', 'China','India', 'Brazil'])\n",
    "# lihat nilainya\n",
    "print(sales_Q1)"
   ]
  },
  {
   "cell_type": "code",
   "execution_count": 12,
   "metadata": {},
   "outputs": [
    {
     "name": "stdout",
     "output_type": "stream",
     "text": [
      "USA      260\n",
      "China    500\n",
      "India    210\n",
      "Japan    100\n",
      "dtype: int64\n"
     ]
    }
   ],
   "source": [
    "# dataset penjualan kedua\n",
    "sales_Q2 = pd.Series([260,500,210,100],index = ['USA', 'China','India', 'Japan'])  \n",
    "# lihat nilainya\n",
    "print(sales_Q2)"
   ]
  },
  {
   "cell_type": "code",
   "execution_count": 13,
   "metadata": {},
   "outputs": [
    {
     "data": {
      "text/plain": [
       "250"
      ]
     },
     "execution_count": 13,
     "metadata": {},
     "output_type": "execute_result"
    }
   ],
   "source": [
    "# untuk mendapatkan nilai penjualan dari negara 'USA', \n",
    "# maka gunakan labelnya sebagai indeks\n",
    "sales_Q1['USA']"
   ]
  },
  {
   "cell_type": "code",
   "execution_count": 14,
   "metadata": {},
   "outputs": [
    {
     "ename": "KeyError",
     "evalue": "'Russia'",
     "output_type": "error",
     "traceback": [
      "\u001b[1;31m---------------------------------------------------------------------------\u001b[0m",
      "\u001b[1;31mKeyError\u001b[0m                                  Traceback (most recent call last)",
      "File \u001b[1;32mc:\\Users\\62813\\AppData\\Local\\Programs\\Python\\Python311\\Lib\\site-packages\\pandas\\core\\indexes\\base.py:3802\u001b[0m, in \u001b[0;36mIndex.get_loc\u001b[1;34m(self, key, method, tolerance)\u001b[0m\n\u001b[0;32m   3801\u001b[0m \u001b[39mtry\u001b[39;00m:\n\u001b[1;32m-> 3802\u001b[0m     \u001b[39mreturn\u001b[39;00m \u001b[39mself\u001b[39;49m\u001b[39m.\u001b[39;49m_engine\u001b[39m.\u001b[39;49mget_loc(casted_key)\n\u001b[0;32m   3803\u001b[0m \u001b[39mexcept\u001b[39;00m \u001b[39mKeyError\u001b[39;00m \u001b[39mas\u001b[39;00m err:\n",
      "File \u001b[1;32mc:\\Users\\62813\\AppData\\Local\\Programs\\Python\\Python311\\Lib\\site-packages\\pandas\\_libs\\index.pyx:138\u001b[0m, in \u001b[0;36mpandas._libs.index.IndexEngine.get_loc\u001b[1;34m()\u001b[0m\n",
      "File \u001b[1;32mc:\\Users\\62813\\AppData\\Local\\Programs\\Python\\Python311\\Lib\\site-packages\\pandas\\_libs\\index.pyx:165\u001b[0m, in \u001b[0;36mpandas._libs.index.IndexEngine.get_loc\u001b[1;34m()\u001b[0m\n",
      "File \u001b[1;32mpandas\\_libs\\hashtable_class_helper.pxi:5745\u001b[0m, in \u001b[0;36mpandas._libs.hashtable.PyObjectHashTable.get_item\u001b[1;34m()\u001b[0m\n",
      "File \u001b[1;32mpandas\\_libs\\hashtable_class_helper.pxi:5753\u001b[0m, in \u001b[0;36mpandas._libs.hashtable.PyObjectHashTable.get_item\u001b[1;34m()\u001b[0m\n",
      "\u001b[1;31mKeyError\u001b[0m: 'Russia'",
      "\nThe above exception was the direct cause of the following exception:\n",
      "\u001b[1;31mKeyError\u001b[0m                                  Traceback (most recent call last)",
      "Cell \u001b[1;32mIn[14], line 3\u001b[0m\n\u001b[0;32m      1\u001b[0m \u001b[39m# Perhatikan jika kita memberikan indeks dengan label yang salah,\u001b[39;00m\n\u001b[0;32m      2\u001b[0m \u001b[39m# jenis error yang akan kita dapatkan adalah KEY ERROR! Contoh:\u001b[39;00m\n\u001b[1;32m----> 3\u001b[0m sales_Q1[\u001b[39m'\u001b[39;49m\u001b[39mRussia\u001b[39;49m\u001b[39m'\u001b[39;49m] \u001b[39m# nama yang salah\u001b[39;00m\n",
      "File \u001b[1;32mc:\\Users\\62813\\AppData\\Local\\Programs\\Python\\Python311\\Lib\\site-packages\\pandas\\core\\series.py:981\u001b[0m, in \u001b[0;36mSeries.__getitem__\u001b[1;34m(self, key)\u001b[0m\n\u001b[0;32m    978\u001b[0m     \u001b[39mreturn\u001b[39;00m \u001b[39mself\u001b[39m\u001b[39m.\u001b[39m_values[key]\n\u001b[0;32m    980\u001b[0m \u001b[39melif\u001b[39;00m key_is_scalar:\n\u001b[1;32m--> 981\u001b[0m     \u001b[39mreturn\u001b[39;00m \u001b[39mself\u001b[39;49m\u001b[39m.\u001b[39;49m_get_value(key)\n\u001b[0;32m    983\u001b[0m \u001b[39mif\u001b[39;00m is_hashable(key):\n\u001b[0;32m    984\u001b[0m     \u001b[39m# Otherwise index.get_value will raise InvalidIndexError\u001b[39;00m\n\u001b[0;32m    985\u001b[0m     \u001b[39mtry\u001b[39;00m:\n\u001b[0;32m    986\u001b[0m         \u001b[39m# For labels that don't resolve as scalars like tuples and frozensets\u001b[39;00m\n",
      "File \u001b[1;32mc:\\Users\\62813\\AppData\\Local\\Programs\\Python\\Python311\\Lib\\site-packages\\pandas\\core\\series.py:1089\u001b[0m, in \u001b[0;36mSeries._get_value\u001b[1;34m(self, label, takeable)\u001b[0m\n\u001b[0;32m   1086\u001b[0m     \u001b[39mreturn\u001b[39;00m \u001b[39mself\u001b[39m\u001b[39m.\u001b[39m_values[label]\n\u001b[0;32m   1088\u001b[0m \u001b[39m# Similar to Index.get_value, but we do not fall back to positional\u001b[39;00m\n\u001b[1;32m-> 1089\u001b[0m loc \u001b[39m=\u001b[39m \u001b[39mself\u001b[39;49m\u001b[39m.\u001b[39;49mindex\u001b[39m.\u001b[39;49mget_loc(label)\n\u001b[0;32m   1090\u001b[0m \u001b[39mreturn\u001b[39;00m \u001b[39mself\u001b[39m\u001b[39m.\u001b[39mindex\u001b[39m.\u001b[39m_get_values_for_loc(\u001b[39mself\u001b[39m, loc, label)\n",
      "File \u001b[1;32mc:\\Users\\62813\\AppData\\Local\\Programs\\Python\\Python311\\Lib\\site-packages\\pandas\\core\\indexes\\base.py:3804\u001b[0m, in \u001b[0;36mIndex.get_loc\u001b[1;34m(self, key, method, tolerance)\u001b[0m\n\u001b[0;32m   3802\u001b[0m     \u001b[39mreturn\u001b[39;00m \u001b[39mself\u001b[39m\u001b[39m.\u001b[39m_engine\u001b[39m.\u001b[39mget_loc(casted_key)\n\u001b[0;32m   3803\u001b[0m \u001b[39mexcept\u001b[39;00m \u001b[39mKeyError\u001b[39;00m \u001b[39mas\u001b[39;00m err:\n\u001b[1;32m-> 3804\u001b[0m     \u001b[39mraise\u001b[39;00m \u001b[39mKeyError\u001b[39;00m(key) \u001b[39mfrom\u001b[39;00m \u001b[39merr\u001b[39;00m\n\u001b[0;32m   3805\u001b[0m \u001b[39mexcept\u001b[39;00m \u001b[39mTypeError\u001b[39;00m:\n\u001b[0;32m   3806\u001b[0m     \u001b[39m# If we have a listlike key, _check_indexing_error will raise\u001b[39;00m\n\u001b[0;32m   3807\u001b[0m     \u001b[39m#  InvalidIndexError. Otherwise we fall through and re-raise\u001b[39;00m\n\u001b[0;32m   3808\u001b[0m     \u001b[39m#  the TypeError.\u001b[39;00m\n\u001b[0;32m   3809\u001b[0m     \u001b[39mself\u001b[39m\u001b[39m.\u001b[39m_check_indexing_error(key)\n",
      "\u001b[1;31mKeyError\u001b[0m: 'Russia'"
     ]
    }
   ],
   "source": [
    "# Perhatikan jika kita memberikan indeks dengan label yang salah,\n",
    "# jenis error yang akan kita dapatkan adalah KEY ERROR! Contoh:\n",
    "sales_Q1['Russia'] # nama yang salah"
   ]
  },
  {
   "cell_type": "code",
   "execution_count": 17,
   "metadata": {},
   "outputs": [
    {
     "data": {
      "text/plain": [
       "250"
      ]
     },
     "execution_count": 17,
     "metadata": {},
     "output_type": "execute_result"
    }
   ],
   "source": [
    "sales_Q1['USA '] # kesalahan karena ada spasi"
   ]
  },
  {
   "cell_type": "code",
   "execution_count": 16,
   "metadata": {},
   "outputs": [
    {
     "data": {
      "text/plain": [
       "Brazil      NaN\n",
       "China     950.0\n",
       "India     410.0\n",
       "Japan       NaN\n",
       "USA       510.0\n",
       "dtype: float64"
      ]
     },
     "execution_count": 16,
     "metadata": {},
     "output_type": "execute_result"
    }
   ],
   "source": [
    "# Beberapa operasi matematika juga berdasarkan indeks labelnya\n",
    "sales_Q1 + sales_Q2"
   ]
  },
  {
   "cell_type": "markdown",
   "metadata": {},
   "source": [
    "# Percobaan 3:\n",
    "dari Percobaan 1, berapakah jumlah rata-rata jumlah mahasiswa prodi ilmu komputer, elektro, dan ekonomi per angkaatan ?"
   ]
  },
  {
   "cell_type": "code",
   "execution_count": 80,
   "metadata": {},
   "outputs": [
    {
     "name": "stdout",
     "output_type": "stream",
     "text": [
      "40\n"
     ]
    }
   ],
   "source": [
    "# Jumlah Rata-rata Mahasiswa Prodi Ilmu Komputer per angkatan:\n",
    "\n",
    "n_mhs_ilkom = n_mhs_per_prodi [0]\n",
    "\n",
    "print(n_mhs_ilkom)"
   ]
  },
  {
   "cell_type": "code",
   "execution_count": 81,
   "metadata": {},
   "outputs": [
    {
     "name": "stdout",
     "output_type": "stream",
     "text": [
      "20\n"
     ]
    }
   ],
   "source": [
    "# Jumlah Rata-rata Mahasiswa Prodi Teknik Elektro per angkatan:\n",
    "n_mhs_elektro = n_mhs_per_prodi[2]\n",
    "\n",
    "print(n_mhs_elektro)"
   ]
  },
  {
   "cell_type": "code",
   "execution_count": 82,
   "metadata": {},
   "outputs": [
    {
     "name": "stdout",
     "output_type": "stream",
     "text": [
      "50\n"
     ]
    }
   ],
   "source": [
    "# Jumlah Rata-rata Mahasiswa Prodi Ekonomi per angkatan:\n",
    "n_mhs_ekonomi = n_mhs_per_prodi[3]\n",
    "\n",
    "print(n_mhs_ekonomi)"
   ]
  },
  {
   "cell_type": "markdown",
   "metadata": {},
   "source": [
    "# Percobaan 4: \n",
    "buatlah dataset baru dalam bentuk Series yang berisikan (kira-kira) rata-rata jumlah lulusan per tahun dari setiap prodi di universitas pertamina, kemudian hitung sisa mahasiswa yang belum lulus per angkatan"
   ]
  },
  {
   "cell_type": "code",
   "execution_count": 88,
   "metadata": {},
   "outputs": [],
   "source": [
    "# Jawab:\n",
    "prodi = [\"ilkom\", \"kimia\",\"Elektro\",\"Ekonomi\",\"Sipil\",\"GeoFisika\",\"Geologi\",\"Teknik Kimia\",\"Lingkungan\",\"Komunikasi\",\"Hubungan Internasional\",\"Minyak\",\"Mesin\",\"Management\",\"Logistik\"]\n",
    "n_mhs = [40,30,20,50,40,60,30,20,40,35,63,56,70,32,65]\n",
    "arr_n_mhs = np.array(n_mhs)\n",
    "dic_n_mhs = pd.Series( {'ilkom':40,'kimia':30, 'Elektro':20, 'Ekonomi':50,'Sipil':40,'GeoFisika':60,'Geologi':30,'Tekinik Kimia':20,'Lingkungan':40,'Komunikasi':35,'Hubungan Internasional':63,'Minyak':56,'Mesin':70,'Management':32,'Logistik':65})\n"
   ]
  },
  {
   "cell_type": "code",
   "execution_count": 89,
   "metadata": {},
   "outputs": [],
   "source": [
    "dic_lulus_mhs = pd.Series ({'ilkom':20,'kimia':10, 'Elektro':5, 'Ekonomi':30,'Sipil':20,'GeoFisika':30,'Geologi':15,'Tekinik Kimia':10,'Lingkungan':20,'Komunikasi':15,'Hubungan Internasional':33,'Minyak':26,'Mesin':35,'Management':22,'Logistik':25})\n"
   ]
  },
  {
   "cell_type": "code",
   "execution_count": 90,
   "metadata": {},
   "outputs": [
    {
     "name": "stdout",
     "output_type": "stream",
     "text": [
      "ilkom                     20\n",
      "kimia                     20\n",
      "Elektro                   15\n",
      "Ekonomi                   20\n",
      "Sipil                     20\n",
      "GeoFisika                 30\n",
      "Geologi                   15\n",
      "Tekinik Kimia             10\n",
      "Lingkungan                20\n",
      "Komunikasi                20\n",
      "Hubungan Internasional    30\n",
      "Minyak                    30\n",
      "Mesin                     35\n",
      "Management                10\n",
      "Logistik                  40\n",
      "dtype: int64\n"
     ]
    }
   ],
   "source": [
    "df_blm_lulus = dic_n_mhs - dic_lulus_mhs\n",
    "\n",
    "print(df_blm_lulus)"
   ]
  },
  {
   "cell_type": "markdown",
   "metadata": {},
   "source": [
    "# DataFrames\n",
    "\n",
    "`DataFrame` adalah tipe data yang paling sering digunakan yang terinspirasi dari bahasa pemrograman R. Kita dapat menganggap DataFrame seperti gabungan dari beberapa Series yang berbagi indeks yang sama "
   ]
  },
  {
   "cell_type": "code",
   "execution_count": 18,
   "metadata": {},
   "outputs": [],
   "source": [
    "# Kita akan memerlukan beberapa nilai integer yang dibuat secara acak\n",
    "from numpy.random import randint"
   ]
  },
  {
   "cell_type": "code",
   "execution_count": 19,
   "metadata": {},
   "outputs": [],
   "source": [
    "# Siapkan label baris dan kolom untuk dataset\n",
    "columns = ['W', 'X', 'Y', 'Z'] # untuk 4 kolom\n",
    "index = ['A', 'B', 'C', 'D', 'E'] # untuk 5 baris"
   ]
  },
  {
   "cell_type": "code",
   "execution_count": 20,
   "metadata": {},
   "outputs": [
    {
     "name": "stdout",
     "output_type": "stream",
     "text": [
      "[[ 29 -65  85  68]\n",
      " [-32  97  80  29]\n",
      " [ 51 -65 -45  93]\n",
      " [ 76 -41   7  30]\n",
      " [ 92  40  68 -80]]\n"
     ]
    }
   ],
   "source": [
    "# Membuat data acak dari seed tertentu agar data acaknya sama setiap kali dibuat\n",
    "np.random.seed(99)\n",
    "# matrix berukuran 5x4, dengan data random dari range -100 sampai 100\n",
    "data = randint(-100,100,(5,4)) \n",
    "print(data)"
   ]
  },
  {
   "cell_type": "code",
   "execution_count": 21,
   "metadata": {},
   "outputs": [
    {
     "name": "stdout",
     "output_type": "stream",
     "text": [
      "    W   X   Y   Z\n",
      "A  29 -65  85  68\n",
      "B -32  97  80  29\n",
      "C  51 -65 -45  93\n",
      "D  76 -41   7  30\n",
      "E  92  40  68 -80\n"
     ]
    }
   ],
   "source": [
    "# Membuat dataframe dari data di atas dan label yang sudah disiapkan\n",
    "df = pd.DataFrame(data,index,columns)\n",
    "print(df)"
   ]
  },
  {
   "cell_type": "markdown",
   "metadata": {},
   "source": [
    "# Percobaan 5:\n",
    "buatlah dataset berukuran 15 baris dan 5 kolom, berisikan data bertipe integer dengan nilai acak dari 20 hingga 100, dengan\n",
    "label tiap baris adalah nama prodi di universitas pertamina, dan label tiap kolom adalah tahun 2016 hingga 2020"
   ]
  },
  {
   "cell_type": "code",
   "execution_count": 96,
   "metadata": {},
   "outputs": [],
   "source": [
    "# Jawab:\n",
    "index = [\"ilkom\", \"kimia\",\"Elektro\",\"Ekonomi\",\"Sipil\",\"GeoFisika\",\"Geologi\",\"Teknik Kimia\",\"Lingkungan\",\"Komunikasi\",\"Hubungan Internasional\",\"Minyak\",\"Mesin\",\"Management\",\"Logistik\"] # untuk 4 kolom\n",
    "columns = ['2016', '2017', '2018', '2019', '2020']"
   ]
  },
  {
   "cell_type": "code",
   "execution_count": 98,
   "metadata": {},
   "outputs": [
    {
     "name": "stdout",
     "output_type": "stream",
     "text": [
      "                        2016  2017  2018  2019  2020\n",
      "ilkom                     24    64    84    28    38\n",
      "kimia                     34    65    59    54    61\n",
      "Elektro                   28    60    25    47    54\n",
      "Ekonomi                   49    58    39    39    86\n",
      "Sipil                     27    47    43    43    31\n",
      "GeoFisika                 33    72    95    67    21\n",
      "Geologi                   67    78    80    68    79\n",
      "Teknik Kimia              85    41    73    29    37\n",
      "Lingkungan                72    23    31    49    87\n",
      "Komunikasi                26    99    80    48    52\n",
      "Hubungan Internasional    73    98    37    81    28\n",
      "Minyak                    44    39    82    25    90\n",
      "Mesin                     25    90    77    82    89\n",
      "Management                20    82    69    38    83\n",
      "Logistik                  71    91    53    96    60\n"
     ]
    }
   ],
   "source": [
    "np.random.seed(22)\n",
    "# matrix berukuran 5x4, dengan data random dari range -100 sampai 100\n",
    "data = randint(20,100,(15,5)) \n",
    "data = pd.DataFrame(data,index,columns)\n",
    "print(data)"
   ]
  },
  {
   "cell_type": "markdown",
   "metadata": {},
   "source": [
    "# Selection dan Indexing\n",
    "di sesi ini kita akan belajar beberapa metode untuk mengambil data dari DataFrame"
   ]
  },
  {
   "cell_type": "markdown",
   "metadata": {},
   "source": [
    "## Kolom"
   ]
  },
  {
   "cell_type": "code",
   "execution_count": 22,
   "metadata": {},
   "outputs": [
    {
     "data": {
      "text/plain": [
       "A   -65\n",
       "B    97\n",
       "C   -65\n",
       "D   -41\n",
       "E    40\n",
       "Name: X, dtype: int32"
      ]
     },
     "execution_count": 22,
     "metadata": {},
     "output_type": "execute_result"
    }
   ],
   "source": [
    "# Contoh mengambil nilai dari satu kolom\n",
    "df[\"X\"]"
   ]
  },
  {
   "cell_type": "code",
   "execution_count": 23,
   "metadata": {},
   "outputs": [
    {
     "data": {
      "text/html": [
       "<div>\n",
       "<style scoped>\n",
       "    .dataframe tbody tr th:only-of-type {\n",
       "        vertical-align: middle;\n",
       "    }\n",
       "\n",
       "    .dataframe tbody tr th {\n",
       "        vertical-align: top;\n",
       "    }\n",
       "\n",
       "    .dataframe thead th {\n",
       "        text-align: right;\n",
       "    }\n",
       "</style>\n",
       "<table border=\"1\" class=\"dataframe\">\n",
       "  <thead>\n",
       "    <tr style=\"text-align: right;\">\n",
       "      <th></th>\n",
       "      <th>W</th>\n",
       "      <th>Z</th>\n",
       "    </tr>\n",
       "  </thead>\n",
       "  <tbody>\n",
       "    <tr>\n",
       "      <th>A</th>\n",
       "      <td>29</td>\n",
       "      <td>68</td>\n",
       "    </tr>\n",
       "    <tr>\n",
       "      <th>B</th>\n",
       "      <td>-32</td>\n",
       "      <td>29</td>\n",
       "    </tr>\n",
       "    <tr>\n",
       "      <th>C</th>\n",
       "      <td>51</td>\n",
       "      <td>93</td>\n",
       "    </tr>\n",
       "    <tr>\n",
       "      <th>D</th>\n",
       "      <td>76</td>\n",
       "      <td>30</td>\n",
       "    </tr>\n",
       "    <tr>\n",
       "      <th>E</th>\n",
       "      <td>92</td>\n",
       "      <td>-80</td>\n",
       "    </tr>\n",
       "  </tbody>\n",
       "</table>\n",
       "</div>"
      ],
      "text/plain": [
       "    W   Z\n",
       "A  29  68\n",
       "B -32  29\n",
       "C  51  93\n",
       "D  76  30\n",
       "E  92 -80"
      ]
     },
     "execution_count": 23,
     "metadata": {},
     "output_type": "execute_result"
    }
   ],
   "source": [
    "# Contoh mengambil nilai dari beberapa kolom\n",
    "df[['W','Z']]"
   ]
  },
  {
   "cell_type": "markdown",
   "metadata": {},
   "source": [
    "### Pertanyaan:\n",
    "apa perbedaan tipe data dari hasil pengambilan satu kolom dan beberapa kolom di atas ? Hint: gunakan fungsi `type()`"
   ]
  },
  {
   "cell_type": "code",
   "execution_count": 29,
   "metadata": {},
   "outputs": [
    {
     "data": {
      "text/plain": [
       "pandas.core.frame.DataFrame"
      ]
     },
     "execution_count": 29,
     "metadata": {},
     "output_type": "execute_result"
    }
   ],
   "source": [
    "# Jawab:\n"
   ]
  },
  {
   "cell_type": "code",
   "execution_count": 25,
   "metadata": {},
   "outputs": [
    {
     "name": "stdout",
     "output_type": "stream",
     "text": [
      "    W   X   Y   Z  new\n",
      "A  29 -65  85  68  114\n",
      "B -32  97  80  29   48\n",
      "C  51 -65 -45  93    6\n",
      "D  76 -41   7  30   83\n",
      "E  92  40  68 -80  160\n"
     ]
    }
   ],
   "source": [
    "# Contoh membuat kolom baru di DataFrame yang sudah ada\n",
    "df['new'] = df['W'] + df['Y']\n",
    "print(df)"
   ]
  },
  {
   "cell_type": "code",
   "execution_count": 26,
   "metadata": {},
   "outputs": [
    {
     "data": {
      "text/html": [
       "<div>\n",
       "<style scoped>\n",
       "    .dataframe tbody tr th:only-of-type {\n",
       "        vertical-align: middle;\n",
       "    }\n",
       "\n",
       "    .dataframe tbody tr th {\n",
       "        vertical-align: top;\n",
       "    }\n",
       "\n",
       "    .dataframe thead th {\n",
       "        text-align: right;\n",
       "    }\n",
       "</style>\n",
       "<table border=\"1\" class=\"dataframe\">\n",
       "  <thead>\n",
       "    <tr style=\"text-align: right;\">\n",
       "      <th></th>\n",
       "      <th>W</th>\n",
       "      <th>X</th>\n",
       "      <th>Y</th>\n",
       "      <th>Z</th>\n",
       "    </tr>\n",
       "  </thead>\n",
       "  <tbody>\n",
       "    <tr>\n",
       "      <th>A</th>\n",
       "      <td>29</td>\n",
       "      <td>-65</td>\n",
       "      <td>85</td>\n",
       "      <td>68</td>\n",
       "    </tr>\n",
       "    <tr>\n",
       "      <th>B</th>\n",
       "      <td>-32</td>\n",
       "      <td>97</td>\n",
       "      <td>80</td>\n",
       "      <td>29</td>\n",
       "    </tr>\n",
       "    <tr>\n",
       "      <th>C</th>\n",
       "      <td>51</td>\n",
       "      <td>-65</td>\n",
       "      <td>-45</td>\n",
       "      <td>93</td>\n",
       "    </tr>\n",
       "    <tr>\n",
       "      <th>D</th>\n",
       "      <td>76</td>\n",
       "      <td>-41</td>\n",
       "      <td>7</td>\n",
       "      <td>30</td>\n",
       "    </tr>\n",
       "    <tr>\n",
       "      <th>E</th>\n",
       "      <td>92</td>\n",
       "      <td>40</td>\n",
       "      <td>68</td>\n",
       "      <td>-80</td>\n",
       "    </tr>\n",
       "  </tbody>\n",
       "</table>\n",
       "</div>"
      ],
      "text/plain": [
       "    W   X   Y   Z\n",
       "A  29 -65  85  68\n",
       "B -32  97  80  29\n",
       "C  51 -65 -45  93\n",
       "D  76 -41   7  30\n",
       "E  92  40  68 -80"
      ]
     },
     "execution_count": 26,
     "metadata": {},
     "output_type": "execute_result"
    }
   ],
   "source": [
    "# Contoh menghilangkan kolom\n",
    "df.drop('new', axis=1) \n",
    "# Catatan: axis=1 karena untuk kolom. Coba hilangkan parameter axis dan lihat error apa yang dihasilkan"
   ]
  },
  {
   "cell_type": "code",
   "execution_count": 27,
   "metadata": {},
   "outputs": [
    {
     "name": "stdout",
     "output_type": "stream",
     "text": [
      "    W   X   Y   Z  new\n",
      "A  29 -65  85  68  114\n",
      "B -32  97  80  29   48\n",
      "C  51 -65 -45  93    6\n",
      "D  76 -41   7  30   83\n",
      "E  92  40  68 -80  160\n"
     ]
    }
   ],
   "source": [
    "# namun dataset aslinya tidak berubah\n",
    "print(df)"
   ]
  },
  {
   "cell_type": "code",
   "execution_count": 28,
   "metadata": {},
   "outputs": [
    {
     "name": "stdout",
     "output_type": "stream",
     "text": [
      "    W   X   Y   Z\n",
      "A  29 -65  85  68\n",
      "B -32  97  80  29\n",
      "C  51 -65 -45  93\n",
      "D  76 -41   7  30\n",
      "E  92  40  68 -80\n"
     ]
    }
   ],
   "source": [
    "# lakukan assignment untuk mengubah dataset secara permanen\n",
    "df = df.drop('new',axis=1)\n",
    "print(df)"
   ]
  },
  {
   "cell_type": "markdown",
   "metadata": {},
   "source": [
    "# Percobaan 6:\n",
    "dari percobaan 5, asumsikan datasetnya adalah dataset jumlah mahasiswa per tahun di setiap prodi di universitas pertamina. \n",
    "1. Tunjukkan jumlah mahasiswa tahun 2017\n",
    "2. Tunjukkan jumlah mahasiswa tahun 2017 dan 2018\n",
    "3. Buatlah satu kolom baru yang berisikan total mahasiswa dari tahun 2016 hingga 2020\n",
    "4. Hilangkan kolom baru di atas"
   ]
  },
  {
   "cell_type": "code",
   "execution_count": 115,
   "metadata": {},
   "outputs": [
    {
     "name": "stdout",
     "output_type": "stream",
     "text": [
      "ilkom                     64\n",
      "kimia                     65\n",
      "Elektro                   60\n",
      "Ekonomi                   58\n",
      "Sipil                     47\n",
      "GeoFisika                 72\n",
      "Geologi                   78\n",
      "Teknik Kimia              41\n",
      "Lingkungan                23\n",
      "Komunikasi                99\n",
      "Hubungan Internasional    98\n",
      "Minyak                    39\n",
      "Mesin                     90\n",
      "Management                82\n",
      "Logistik                  91\n",
      "Name: 2017, dtype: int32\n",
      "Total :  1007\n"
     ]
    }
   ],
   "source": [
    "# Jawaban 1 :\n",
    "df_3 = data[\"2017\"]\n",
    "print (df_3)\n",
    "df = data[\"2017\"].sum()\n",
    "print(\"Total : \",df)\n",
    "\n"
   ]
  },
  {
   "cell_type": "code",
   "execution_count": 121,
   "metadata": {},
   "outputs": [
    {
     "name": "stdout",
     "output_type": "stream",
     "text": [
      "ilkom                     64\n",
      "kimia                     65\n",
      "Elektro                   60\n",
      "Ekonomi                   58\n",
      "Sipil                     47\n",
      "GeoFisika                 72\n",
      "Geologi                   78\n",
      "Teknik Kimia              41\n",
      "Lingkungan                23\n",
      "Komunikasi                99\n",
      "Hubungan Internasional    98\n",
      "Minyak                    39\n",
      "Mesin                     90\n",
      "Management                82\n",
      "Logistik                  91\n",
      "Name: 2017, dtype: int32\n",
      "ilkom                     84\n",
      "kimia                     59\n",
      "Elektro                   25\n",
      "Ekonomi                   39\n",
      "Sipil                     43\n",
      "GeoFisika                 95\n",
      "Geologi                   80\n",
      "Teknik Kimia              73\n",
      "Lingkungan                31\n",
      "Komunikasi                80\n",
      "Hubungan Internasional    37\n",
      "Minyak                    82\n",
      "Mesin                     77\n",
      "Management                69\n",
      "Logistik                  53\n",
      "Name: 2018, dtype: int32\n",
      "Total :  1007\n",
      "Total :  927\n"
     ]
    }
   ],
   "source": [
    "# Jawaban 2 :\n",
    "df_3 = data[\"2017\"]\n",
    "print (df_3)\n",
    "df_4 = data[\"2018\"]\n",
    "print (df_4)\n",
    "df = data[\"2017\"].sum()\n",
    "print(\"Total : \",df)\n",
    "df2 = data[\"2018\"].sum()\n",
    "print(\"Total : \",df2)\n"
   ]
  },
  {
   "cell_type": "code",
   "execution_count": 130,
   "metadata": {},
   "outputs": [
    {
     "name": "stdout",
     "output_type": "stream",
     "text": [
      "                        2016  2017  2018  2019  2020  total\n",
      "ilkom                     24    64    84    28    38    238\n",
      "kimia                     34    65    59    54    61    273\n",
      "Elektro                   28    60    25    47    54    214\n",
      "Ekonomi                   49    58    39    39    86    271\n",
      "Sipil                     27    47    43    43    31    191\n",
      "GeoFisika                 33    72    95    67    21    288\n",
      "Geologi                   67    78    80    68    79    372\n",
      "Teknik Kimia              85    41    73    29    37    265\n",
      "Lingkungan                72    23    31    49    87    262\n",
      "Komunikasi                26    99    80    48    52    305\n",
      "Hubungan Internasional    73    98    37    81    28    317\n",
      "Minyak                    44    39    82    25    90    280\n",
      "Mesin                     25    90    77    82    89    363\n",
      "Management                20    82    69    38    83    292\n",
      "Logistik                  71    91    53    96    60    371\n"
     ]
    }
   ],
   "source": [
    "# Jawaban 3 :\n",
    "data['total'] = data[\"2016\"] + data[\"2017\"] + data[\"2018\"] + data[\"2019\"] + data[\"2020\"]\n",
    "\n",
    "print(data)"
   ]
  },
  {
   "cell_type": "code",
   "execution_count": 131,
   "metadata": {},
   "outputs": [
    {
     "name": "stdout",
     "output_type": "stream",
     "text": [
      "                        2016  2017  2018  2019  2020\n",
      "ilkom                     24    64    84    28    38\n",
      "kimia                     34    65    59    54    61\n",
      "Elektro                   28    60    25    47    54\n",
      "Ekonomi                   49    58    39    39    86\n",
      "Sipil                     27    47    43    43    31\n",
      "GeoFisika                 33    72    95    67    21\n",
      "Geologi                   67    78    80    68    79\n",
      "Teknik Kimia              85    41    73    29    37\n",
      "Lingkungan                72    23    31    49    87\n",
      "Komunikasi                26    99    80    48    52\n",
      "Hubungan Internasional    73    98    37    81    28\n",
      "Minyak                    44    39    82    25    90\n",
      "Mesin                     25    90    77    82    89\n",
      "Management                20    82    69    38    83\n",
      "Logistik                  71    91    53    96    60\n"
     ]
    }
   ],
   "source": [
    "# Jawaban 4 :\n",
    "data = data.drop('total',axis=1)\n",
    "print(data)"
   ]
  },
  {
   "cell_type": "markdown",
   "metadata": {},
   "source": [
    "# Baris"
   ]
  },
  {
   "cell_type": "code",
   "execution_count": 30,
   "metadata": {},
   "outputs": [
    {
     "data": {
      "text/plain": [
       "W    29\n",
       "X   -65\n",
       "Y    85\n",
       "Z    68\n",
       "Name: A, dtype: int32"
      ]
     },
     "execution_count": 30,
     "metadata": {},
     "output_type": "execute_result"
    }
   ],
   "source": [
    "# Contoh memilih satu baris dengan nama labelnya, menggunakan `loc[]`\n",
    "df.loc['A']"
   ]
  },
  {
   "cell_type": "code",
   "execution_count": 31,
   "metadata": {},
   "outputs": [
    {
     "data": {
      "text/html": [
       "<div>\n",
       "<style scoped>\n",
       "    .dataframe tbody tr th:only-of-type {\n",
       "        vertical-align: middle;\n",
       "    }\n",
       "\n",
       "    .dataframe tbody tr th {\n",
       "        vertical-align: top;\n",
       "    }\n",
       "\n",
       "    .dataframe thead th {\n",
       "        text-align: right;\n",
       "    }\n",
       "</style>\n",
       "<table border=\"1\" class=\"dataframe\">\n",
       "  <thead>\n",
       "    <tr style=\"text-align: right;\">\n",
       "      <th></th>\n",
       "      <th>W</th>\n",
       "      <th>X</th>\n",
       "      <th>Y</th>\n",
       "      <th>Z</th>\n",
       "    </tr>\n",
       "  </thead>\n",
       "  <tbody>\n",
       "    <tr>\n",
       "      <th>A</th>\n",
       "      <td>29</td>\n",
       "      <td>-65</td>\n",
       "      <td>85</td>\n",
       "      <td>68</td>\n",
       "    </tr>\n",
       "    <tr>\n",
       "      <th>C</th>\n",
       "      <td>51</td>\n",
       "      <td>-65</td>\n",
       "      <td>-45</td>\n",
       "      <td>93</td>\n",
       "    </tr>\n",
       "  </tbody>\n",
       "</table>\n",
       "</div>"
      ],
      "text/plain": [
       "    W   X   Y   Z\n",
       "A  29 -65  85  68\n",
       "C  51 -65 -45  93"
      ]
     },
     "execution_count": 31,
     "metadata": {},
     "output_type": "execute_result"
    }
   ],
   "source": [
    "# Contoh memilih beberapa baris\n",
    "df.loc[['A','C']]"
   ]
  },
  {
   "cell_type": "code",
   "execution_count": 32,
   "metadata": {},
   "outputs": [
    {
     "data": {
      "text/plain": [
       "W    29\n",
       "X   -65\n",
       "Y    85\n",
       "Z    68\n",
       "Name: A, dtype: int32"
      ]
     },
     "execution_count": 32,
     "metadata": {},
     "output_type": "execute_result"
    }
   ],
   "source": [
    "# Contoh memilih satu baris dengan angka indeksnya, menggunakan `iloc[]`\n",
    "df.iloc[0]"
   ]
  },
  {
   "cell_type": "code",
   "execution_count": 33,
   "metadata": {},
   "outputs": [
    {
     "data": {
      "text/html": [
       "<div>\n",
       "<style scoped>\n",
       "    .dataframe tbody tr th:only-of-type {\n",
       "        vertical-align: middle;\n",
       "    }\n",
       "\n",
       "    .dataframe tbody tr th {\n",
       "        vertical-align: top;\n",
       "    }\n",
       "\n",
       "    .dataframe thead th {\n",
       "        text-align: right;\n",
       "    }\n",
       "</style>\n",
       "<table border=\"1\" class=\"dataframe\">\n",
       "  <thead>\n",
       "    <tr style=\"text-align: right;\">\n",
       "      <th></th>\n",
       "      <th>W</th>\n",
       "      <th>X</th>\n",
       "      <th>Y</th>\n",
       "      <th>Z</th>\n",
       "    </tr>\n",
       "  </thead>\n",
       "  <tbody>\n",
       "    <tr>\n",
       "      <th>A</th>\n",
       "      <td>29</td>\n",
       "      <td>-65</td>\n",
       "      <td>85</td>\n",
       "      <td>68</td>\n",
       "    </tr>\n",
       "    <tr>\n",
       "      <th>B</th>\n",
       "      <td>-32</td>\n",
       "      <td>97</td>\n",
       "      <td>80</td>\n",
       "      <td>29</td>\n",
       "    </tr>\n",
       "  </tbody>\n",
       "</table>\n",
       "</div>"
      ],
      "text/plain": [
       "    W   X   Y   Z\n",
       "A  29 -65  85  68\n",
       "B -32  97  80  29"
      ]
     },
     "execution_count": 33,
     "metadata": {},
     "output_type": "execute_result"
    }
   ],
   "source": [
    "# Contoh memilih beberapa baris dengan angka indeksnya\n",
    "df.iloc[0:2]"
   ]
  },
  {
   "cell_type": "code",
   "execution_count": 34,
   "metadata": {},
   "outputs": [
    {
     "data": {
      "text/html": [
       "<div>\n",
       "<style scoped>\n",
       "    .dataframe tbody tr th:only-of-type {\n",
       "        vertical-align: middle;\n",
       "    }\n",
       "\n",
       "    .dataframe tbody tr th {\n",
       "        vertical-align: top;\n",
       "    }\n",
       "\n",
       "    .dataframe thead th {\n",
       "        text-align: right;\n",
       "    }\n",
       "</style>\n",
       "<table border=\"1\" class=\"dataframe\">\n",
       "  <thead>\n",
       "    <tr style=\"text-align: right;\">\n",
       "      <th></th>\n",
       "      <th>W</th>\n",
       "      <th>X</th>\n",
       "      <th>Y</th>\n",
       "      <th>Z</th>\n",
       "    </tr>\n",
       "  </thead>\n",
       "  <tbody>\n",
       "    <tr>\n",
       "      <th>A</th>\n",
       "      <td>29</td>\n",
       "      <td>-65</td>\n",
       "      <td>85</td>\n",
       "      <td>68</td>\n",
       "    </tr>\n",
       "    <tr>\n",
       "      <th>B</th>\n",
       "      <td>-32</td>\n",
       "      <td>97</td>\n",
       "      <td>80</td>\n",
       "      <td>29</td>\n",
       "    </tr>\n",
       "    <tr>\n",
       "      <th>D</th>\n",
       "      <td>76</td>\n",
       "      <td>-41</td>\n",
       "      <td>7</td>\n",
       "      <td>30</td>\n",
       "    </tr>\n",
       "    <tr>\n",
       "      <th>E</th>\n",
       "      <td>92</td>\n",
       "      <td>40</td>\n",
       "      <td>68</td>\n",
       "      <td>-80</td>\n",
       "    </tr>\n",
       "  </tbody>\n",
       "</table>\n",
       "</div>"
      ],
      "text/plain": [
       "    W   X   Y   Z\n",
       "A  29 -65  85  68\n",
       "B -32  97  80  29\n",
       "D  76 -41   7  30\n",
       "E  92  40  68 -80"
      ]
     },
     "execution_count": 34,
     "metadata": {},
     "output_type": "execute_result"
    }
   ],
   "source": [
    "# Contoh menghapus baris berdasarkan namanya\n",
    "df.drop('C',axis=0) # catatan: axis=0 karena baris, tanpa menggunakan nilai ini juga bisa karena nilai defaultnya axis=0"
   ]
  },
  {
   "cell_type": "code",
   "execution_count": 35,
   "metadata": {},
   "outputs": [
    {
     "name": "stdout",
     "output_type": "stream",
     "text": [
      "    W   X   Y   Z\n",
      "A  29 -65  85  68\n",
      "B -32  97  80  29\n",
      "C  51 -65 -45  93\n",
      "D  76 -41   7  30\n",
      "E  92  40  68 -80\n"
     ]
    }
   ],
   "source": [
    "# namun dataset aslinya tidak berubah tanpa assignment\n",
    "print(df)"
   ]
  },
  {
   "cell_type": "code",
   "execution_count": 36,
   "metadata": {},
   "outputs": [
    {
     "data": {
      "text/html": [
       "<div>\n",
       "<style scoped>\n",
       "    .dataframe tbody tr th:only-of-type {\n",
       "        vertical-align: middle;\n",
       "    }\n",
       "\n",
       "    .dataframe tbody tr th {\n",
       "        vertical-align: top;\n",
       "    }\n",
       "\n",
       "    .dataframe thead th {\n",
       "        text-align: right;\n",
       "    }\n",
       "</style>\n",
       "<table border=\"1\" class=\"dataframe\">\n",
       "  <thead>\n",
       "    <tr style=\"text-align: right;\">\n",
       "      <th></th>\n",
       "      <th>W</th>\n",
       "      <th>Y</th>\n",
       "    </tr>\n",
       "  </thead>\n",
       "  <tbody>\n",
       "    <tr>\n",
       "      <th>A</th>\n",
       "      <td>29</td>\n",
       "      <td>85</td>\n",
       "    </tr>\n",
       "    <tr>\n",
       "      <th>C</th>\n",
       "      <td>51</td>\n",
       "      <td>-45</td>\n",
       "    </tr>\n",
       "  </tbody>\n",
       "</table>\n",
       "</div>"
      ],
      "text/plain": [
       "    W   Y\n",
       "A  29  85\n",
       "C  51 -45"
      ]
     },
     "execution_count": 36,
     "metadata": {},
     "output_type": "execute_result"
    }
   ],
   "source": [
    "# Contoh memilih himpunan bagian (subset) dari baris dan kolom secara bersamaan\n",
    "df.loc[['A','C'],['W','Y']]"
   ]
  },
  {
   "cell_type": "markdown",
   "metadata": {},
   "source": [
    "# Percobaan 7:\n",
    "dari percobaan 5, asumsikan datasetnya adalah dataset jumlah mahasiswa per tahun di setiap prodi di universitas pertamina. \n",
    "1. Tunjukkan jumlah mahasiswa prodi ilmu komputer tiap tahunnya\n",
    "2. Tunjukkan jumlah mahasiswa prodi ilmu komputer dan teknik elektro tiap tahunnya\n",
    "3. Tunjukkan jumlah mahasiswa prodi ilmu komputer dan teknik elektro tahun 2017 dan 2018"
   ]
  },
  {
   "cell_type": "code",
   "execution_count": 132,
   "metadata": {},
   "outputs": [
    {
     "data": {
      "text/html": [
       "<div>\n",
       "<style scoped>\n",
       "    .dataframe tbody tr th:only-of-type {\n",
       "        vertical-align: middle;\n",
       "    }\n",
       "\n",
       "    .dataframe tbody tr th {\n",
       "        vertical-align: top;\n",
       "    }\n",
       "\n",
       "    .dataframe thead th {\n",
       "        text-align: right;\n",
       "    }\n",
       "</style>\n",
       "<table border=\"1\" class=\"dataframe\">\n",
       "  <thead>\n",
       "    <tr style=\"text-align: right;\">\n",
       "      <th></th>\n",
       "      <th>2016</th>\n",
       "      <th>2017</th>\n",
       "      <th>2018</th>\n",
       "      <th>2019</th>\n",
       "      <th>2020</th>\n",
       "    </tr>\n",
       "  </thead>\n",
       "  <tbody>\n",
       "    <tr>\n",
       "      <th>ilkom</th>\n",
       "      <td>24</td>\n",
       "      <td>64</td>\n",
       "      <td>84</td>\n",
       "      <td>28</td>\n",
       "      <td>38</td>\n",
       "    </tr>\n",
       "  </tbody>\n",
       "</table>\n",
       "</div>"
      ],
      "text/plain": [
       "       2016  2017  2018  2019  2020\n",
       "ilkom    24    64    84    28    38"
      ]
     },
     "execution_count": 132,
     "metadata": {},
     "output_type": "execute_result"
    }
   ],
   "source": [
    "# jawaban 1:\n",
    "data.iloc[0:1]"
   ]
  },
  {
   "cell_type": "code",
   "execution_count": 133,
   "metadata": {},
   "outputs": [
    {
     "data": {
      "text/html": [
       "<div>\n",
       "<style scoped>\n",
       "    .dataframe tbody tr th:only-of-type {\n",
       "        vertical-align: middle;\n",
       "    }\n",
       "\n",
       "    .dataframe tbody tr th {\n",
       "        vertical-align: top;\n",
       "    }\n",
       "\n",
       "    .dataframe thead th {\n",
       "        text-align: right;\n",
       "    }\n",
       "</style>\n",
       "<table border=\"1\" class=\"dataframe\">\n",
       "  <thead>\n",
       "    <tr style=\"text-align: right;\">\n",
       "      <th></th>\n",
       "      <th>2016</th>\n",
       "      <th>2017</th>\n",
       "      <th>2018</th>\n",
       "      <th>2019</th>\n",
       "      <th>2020</th>\n",
       "    </tr>\n",
       "  </thead>\n",
       "  <tbody>\n",
       "    <tr>\n",
       "      <th>ilkom</th>\n",
       "      <td>24</td>\n",
       "      <td>64</td>\n",
       "      <td>84</td>\n",
       "      <td>28</td>\n",
       "      <td>38</td>\n",
       "    </tr>\n",
       "    <tr>\n",
       "      <th>Elektro</th>\n",
       "      <td>28</td>\n",
       "      <td>60</td>\n",
       "      <td>25</td>\n",
       "      <td>47</td>\n",
       "      <td>54</td>\n",
       "    </tr>\n",
       "  </tbody>\n",
       "</table>\n",
       "</div>"
      ],
      "text/plain": [
       "         2016  2017  2018  2019  2020\n",
       "ilkom      24    64    84    28    38\n",
       "Elektro    28    60    25    47    54"
      ]
     },
     "execution_count": 133,
     "metadata": {},
     "output_type": "execute_result"
    }
   ],
   "source": [
    "# jawaban 2: \n",
    "data.loc[['ilkom','Elektro']]"
   ]
  },
  {
   "cell_type": "code",
   "execution_count": 134,
   "metadata": {},
   "outputs": [
    {
     "data": {
      "text/html": [
       "<div>\n",
       "<style scoped>\n",
       "    .dataframe tbody tr th:only-of-type {\n",
       "        vertical-align: middle;\n",
       "    }\n",
       "\n",
       "    .dataframe tbody tr th {\n",
       "        vertical-align: top;\n",
       "    }\n",
       "\n",
       "    .dataframe thead th {\n",
       "        text-align: right;\n",
       "    }\n",
       "</style>\n",
       "<table border=\"1\" class=\"dataframe\">\n",
       "  <thead>\n",
       "    <tr style=\"text-align: right;\">\n",
       "      <th></th>\n",
       "      <th>2017</th>\n",
       "      <th>2018</th>\n",
       "    </tr>\n",
       "  </thead>\n",
       "  <tbody>\n",
       "    <tr>\n",
       "      <th>ilkom</th>\n",
       "      <td>64</td>\n",
       "      <td>84</td>\n",
       "    </tr>\n",
       "    <tr>\n",
       "      <th>Elektro</th>\n",
       "      <td>60</td>\n",
       "      <td>25</td>\n",
       "    </tr>\n",
       "  </tbody>\n",
       "</table>\n",
       "</div>"
      ],
      "text/plain": [
       "         2017  2018\n",
       "ilkom      64    84\n",
       "Elektro    60    25"
      ]
     },
     "execution_count": 134,
     "metadata": {},
     "output_type": "execute_result"
    }
   ],
   "source": [
    "# jawaban 3:\n",
    "data.loc[['ilkom','Elektro'],[\"2017\",\"2018\"]]"
   ]
  },
  {
   "cell_type": "markdown",
   "metadata": {},
   "source": [
    "# Conditional Selection\n",
    "seperti `numpy`, kita bisa memilih data dengan kondisi tertentu dengan menggunakan operator komparasi"
   ]
  },
  {
   "cell_type": "code",
   "execution_count": 37,
   "metadata": {},
   "outputs": [
    {
     "data": {
      "text/html": [
       "<div>\n",
       "<style scoped>\n",
       "    .dataframe tbody tr th:only-of-type {\n",
       "        vertical-align: middle;\n",
       "    }\n",
       "\n",
       "    .dataframe tbody tr th {\n",
       "        vertical-align: top;\n",
       "    }\n",
       "\n",
       "    .dataframe thead th {\n",
       "        text-align: right;\n",
       "    }\n",
       "</style>\n",
       "<table border=\"1\" class=\"dataframe\">\n",
       "  <thead>\n",
       "    <tr style=\"text-align: right;\">\n",
       "      <th></th>\n",
       "      <th>W</th>\n",
       "      <th>X</th>\n",
       "      <th>Y</th>\n",
       "      <th>Z</th>\n",
       "    </tr>\n",
       "  </thead>\n",
       "  <tbody>\n",
       "    <tr>\n",
       "      <th>A</th>\n",
       "      <td>29</td>\n",
       "      <td>-65</td>\n",
       "      <td>85</td>\n",
       "      <td>68</td>\n",
       "    </tr>\n",
       "    <tr>\n",
       "      <th>B</th>\n",
       "      <td>-32</td>\n",
       "      <td>97</td>\n",
       "      <td>80</td>\n",
       "      <td>29</td>\n",
       "    </tr>\n",
       "    <tr>\n",
       "      <th>C</th>\n",
       "      <td>51</td>\n",
       "      <td>-65</td>\n",
       "      <td>-45</td>\n",
       "      <td>93</td>\n",
       "    </tr>\n",
       "    <tr>\n",
       "      <th>D</th>\n",
       "      <td>76</td>\n",
       "      <td>-41</td>\n",
       "      <td>7</td>\n",
       "      <td>30</td>\n",
       "    </tr>\n",
       "    <tr>\n",
       "      <th>E</th>\n",
       "      <td>92</td>\n",
       "      <td>40</td>\n",
       "      <td>68</td>\n",
       "      <td>-80</td>\n",
       "    </tr>\n",
       "  </tbody>\n",
       "</table>\n",
       "</div>"
      ],
      "text/plain": [
       "    W   X   Y   Z\n",
       "A  29 -65  85  68\n",
       "B -32  97  80  29\n",
       "C  51 -65 -45  93\n",
       "D  76 -41   7  30\n",
       "E  92  40  68 -80"
      ]
     },
     "execution_count": 37,
     "metadata": {},
     "output_type": "execute_result"
    }
   ],
   "source": [
    "# lihat dataset\n",
    "df"
   ]
  },
  {
   "cell_type": "code",
   "execution_count": 38,
   "metadata": {},
   "outputs": [
    {
     "data": {
      "text/html": [
       "<div>\n",
       "<style scoped>\n",
       "    .dataframe tbody tr th:only-of-type {\n",
       "        vertical-align: middle;\n",
       "    }\n",
       "\n",
       "    .dataframe tbody tr th {\n",
       "        vertical-align: top;\n",
       "    }\n",
       "\n",
       "    .dataframe thead th {\n",
       "        text-align: right;\n",
       "    }\n",
       "</style>\n",
       "<table border=\"1\" class=\"dataframe\">\n",
       "  <thead>\n",
       "    <tr style=\"text-align: right;\">\n",
       "      <th></th>\n",
       "      <th>W</th>\n",
       "      <th>X</th>\n",
       "      <th>Y</th>\n",
       "      <th>Z</th>\n",
       "    </tr>\n",
       "  </thead>\n",
       "  <tbody>\n",
       "    <tr>\n",
       "      <th>A</th>\n",
       "      <td>True</td>\n",
       "      <td>False</td>\n",
       "      <td>True</td>\n",
       "      <td>True</td>\n",
       "    </tr>\n",
       "    <tr>\n",
       "      <th>B</th>\n",
       "      <td>False</td>\n",
       "      <td>True</td>\n",
       "      <td>True</td>\n",
       "      <td>True</td>\n",
       "    </tr>\n",
       "    <tr>\n",
       "      <th>C</th>\n",
       "      <td>True</td>\n",
       "      <td>False</td>\n",
       "      <td>False</td>\n",
       "      <td>True</td>\n",
       "    </tr>\n",
       "    <tr>\n",
       "      <th>D</th>\n",
       "      <td>True</td>\n",
       "      <td>False</td>\n",
       "      <td>True</td>\n",
       "      <td>True</td>\n",
       "    </tr>\n",
       "    <tr>\n",
       "      <th>E</th>\n",
       "      <td>True</td>\n",
       "      <td>True</td>\n",
       "      <td>True</td>\n",
       "      <td>False</td>\n",
       "    </tr>\n",
       "  </tbody>\n",
       "</table>\n",
       "</div>"
      ],
      "text/plain": [
       "       W      X      Y      Z\n",
       "A   True  False   True   True\n",
       "B  False   True   True   True\n",
       "C   True  False  False   True\n",
       "D   True  False   True   True\n",
       "E   True   True   True  False"
      ]
     },
     "execution_count": 38,
     "metadata": {},
     "output_type": "execute_result"
    }
   ],
   "source": [
    "# apakah nilainya positif ?\n",
    "df > 0"
   ]
  },
  {
   "cell_type": "code",
   "execution_count": 39,
   "metadata": {},
   "outputs": [
    {
     "data": {
      "text/html": [
       "<div>\n",
       "<style scoped>\n",
       "    .dataframe tbody tr th:only-of-type {\n",
       "        vertical-align: middle;\n",
       "    }\n",
       "\n",
       "    .dataframe tbody tr th {\n",
       "        vertical-align: top;\n",
       "    }\n",
       "\n",
       "    .dataframe thead th {\n",
       "        text-align: right;\n",
       "    }\n",
       "</style>\n",
       "<table border=\"1\" class=\"dataframe\">\n",
       "  <thead>\n",
       "    <tr style=\"text-align: right;\">\n",
       "      <th></th>\n",
       "      <th>W</th>\n",
       "      <th>X</th>\n",
       "      <th>Y</th>\n",
       "      <th>Z</th>\n",
       "    </tr>\n",
       "  </thead>\n",
       "  <tbody>\n",
       "    <tr>\n",
       "      <th>A</th>\n",
       "      <td>29.0</td>\n",
       "      <td>NaN</td>\n",
       "      <td>85.0</td>\n",
       "      <td>68.0</td>\n",
       "    </tr>\n",
       "    <tr>\n",
       "      <th>B</th>\n",
       "      <td>NaN</td>\n",
       "      <td>97.0</td>\n",
       "      <td>80.0</td>\n",
       "      <td>29.0</td>\n",
       "    </tr>\n",
       "    <tr>\n",
       "      <th>C</th>\n",
       "      <td>51.0</td>\n",
       "      <td>NaN</td>\n",
       "      <td>NaN</td>\n",
       "      <td>93.0</td>\n",
       "    </tr>\n",
       "    <tr>\n",
       "      <th>D</th>\n",
       "      <td>76.0</td>\n",
       "      <td>NaN</td>\n",
       "      <td>7.0</td>\n",
       "      <td>30.0</td>\n",
       "    </tr>\n",
       "    <tr>\n",
       "      <th>E</th>\n",
       "      <td>92.0</td>\n",
       "      <td>40.0</td>\n",
       "      <td>68.0</td>\n",
       "      <td>NaN</td>\n",
       "    </tr>\n",
       "  </tbody>\n",
       "</table>\n",
       "</div>"
      ],
      "text/plain": [
       "      W     X     Y     Z\n",
       "A  29.0   NaN  85.0  68.0\n",
       "B   NaN  97.0  80.0  29.0\n",
       "C  51.0   NaN   NaN  93.0\n",
       "D  76.0   NaN   7.0  30.0\n",
       "E  92.0  40.0  68.0   NaN"
      ]
     },
     "execution_count": 39,
     "metadata": {},
     "output_type": "execute_result"
    }
   ],
   "source": [
    "# tunjukkan data yang bernilai positif\n",
    "df[df>0]"
   ]
  },
  {
   "cell_type": "code",
   "execution_count": 40,
   "metadata": {},
   "outputs": [
    {
     "data": {
      "text/plain": [
       "A    False\n",
       "B     True\n",
       "C    False\n",
       "D    False\n",
       "E     True\n",
       "Name: X, dtype: bool"
      ]
     },
     "execution_count": 40,
     "metadata": {},
     "output_type": "execute_result"
    }
   ],
   "source": [
    "# apakah data pada kolom X yang bernilai positif\n",
    "df['X']>0"
   ]
  },
  {
   "cell_type": "code",
   "execution_count": 41,
   "metadata": {},
   "outputs": [
    {
     "data": {
      "text/html": [
       "<div>\n",
       "<style scoped>\n",
       "    .dataframe tbody tr th:only-of-type {\n",
       "        vertical-align: middle;\n",
       "    }\n",
       "\n",
       "    .dataframe tbody tr th {\n",
       "        vertical-align: top;\n",
       "    }\n",
       "\n",
       "    .dataframe thead th {\n",
       "        text-align: right;\n",
       "    }\n",
       "</style>\n",
       "<table border=\"1\" class=\"dataframe\">\n",
       "  <thead>\n",
       "    <tr style=\"text-align: right;\">\n",
       "      <th></th>\n",
       "      <th>W</th>\n",
       "      <th>X</th>\n",
       "      <th>Y</th>\n",
       "      <th>Z</th>\n",
       "    </tr>\n",
       "  </thead>\n",
       "  <tbody>\n",
       "    <tr>\n",
       "      <th>B</th>\n",
       "      <td>-32</td>\n",
       "      <td>97</td>\n",
       "      <td>80</td>\n",
       "      <td>29</td>\n",
       "    </tr>\n",
       "    <tr>\n",
       "      <th>E</th>\n",
       "      <td>92</td>\n",
       "      <td>40</td>\n",
       "      <td>68</td>\n",
       "      <td>-80</td>\n",
       "    </tr>\n",
       "  </tbody>\n",
       "</table>\n",
       "</div>"
      ],
      "text/plain": [
       "    W   X   Y   Z\n",
       "B -32  97  80  29\n",
       "E  92  40  68 -80"
      ]
     },
     "execution_count": 41,
     "metadata": {},
     "output_type": "execute_result"
    }
   ],
   "source": [
    "# tunjukkan data pada kolom X yang bernilai positif\n",
    "df[df['X']>0]"
   ]
  },
  {
   "cell_type": "code",
   "execution_count": 42,
   "metadata": {},
   "outputs": [
    {
     "data": {
      "text/plain": [
       "B    80\n",
       "E    68\n",
       "Name: Y, dtype: int32"
      ]
     },
     "execution_count": 42,
     "metadata": {},
     "output_type": "execute_result"
    }
   ],
   "source": [
    "# tunjukkan kolom Y saat data pada kolom X bernilai positif\n",
    "df[df['X']>0]['Y']"
   ]
  },
  {
   "cell_type": "code",
   "execution_count": 43,
   "metadata": {},
   "outputs": [
    {
     "data": {
      "text/html": [
       "<div>\n",
       "<style scoped>\n",
       "    .dataframe tbody tr th:only-of-type {\n",
       "        vertical-align: middle;\n",
       "    }\n",
       "\n",
       "    .dataframe tbody tr th {\n",
       "        vertical-align: top;\n",
       "    }\n",
       "\n",
       "    .dataframe thead th {\n",
       "        text-align: right;\n",
       "    }\n",
       "</style>\n",
       "<table border=\"1\" class=\"dataframe\">\n",
       "  <thead>\n",
       "    <tr style=\"text-align: right;\">\n",
       "      <th></th>\n",
       "      <th>Y</th>\n",
       "      <th>Z</th>\n",
       "    </tr>\n",
       "  </thead>\n",
       "  <tbody>\n",
       "    <tr>\n",
       "      <th>B</th>\n",
       "      <td>80</td>\n",
       "      <td>29</td>\n",
       "    </tr>\n",
       "    <tr>\n",
       "      <th>E</th>\n",
       "      <td>68</td>\n",
       "      <td>-80</td>\n",
       "    </tr>\n",
       "  </tbody>\n",
       "</table>\n",
       "</div>"
      ],
      "text/plain": [
       "    Y   Z\n",
       "B  80  29\n",
       "E  68 -80"
      ]
     },
     "execution_count": 43,
     "metadata": {},
     "output_type": "execute_result"
    }
   ],
   "source": [
    "# tunjukkan kolom Y dan Z saat data pada kolom X bernilai positif\n",
    "df[df['X']>0][['Y','Z']]"
   ]
  },
  {
   "cell_type": "code",
   "execution_count": 44,
   "metadata": {},
   "outputs": [
    {
     "data": {
      "text/html": [
       "<div>\n",
       "<style scoped>\n",
       "    .dataframe tbody tr th:only-of-type {\n",
       "        vertical-align: middle;\n",
       "    }\n",
       "\n",
       "    .dataframe tbody tr th {\n",
       "        vertical-align: top;\n",
       "    }\n",
       "\n",
       "    .dataframe thead th {\n",
       "        text-align: right;\n",
       "    }\n",
       "</style>\n",
       "<table border=\"1\" class=\"dataframe\">\n",
       "  <thead>\n",
       "    <tr style=\"text-align: right;\">\n",
       "      <th></th>\n",
       "      <th>W</th>\n",
       "      <th>X</th>\n",
       "      <th>Y</th>\n",
       "      <th>Z</th>\n",
       "    </tr>\n",
       "  </thead>\n",
       "  <tbody>\n",
       "    <tr>\n",
       "      <th>A</th>\n",
       "      <td>29</td>\n",
       "      <td>-65</td>\n",
       "      <td>85</td>\n",
       "      <td>68</td>\n",
       "    </tr>\n",
       "    <tr>\n",
       "      <th>D</th>\n",
       "      <td>76</td>\n",
       "      <td>-41</td>\n",
       "      <td>7</td>\n",
       "      <td>30</td>\n",
       "    </tr>\n",
       "    <tr>\n",
       "      <th>E</th>\n",
       "      <td>92</td>\n",
       "      <td>40</td>\n",
       "      <td>68</td>\n",
       "      <td>-80</td>\n",
       "    </tr>\n",
       "  </tbody>\n",
       "</table>\n",
       "</div>"
      ],
      "text/plain": [
       "    W   X   Y   Z\n",
       "A  29 -65  85  68\n",
       "D  76 -41   7  30\n",
       "E  92  40  68 -80"
      ]
     },
     "execution_count": 44,
     "metadata": {},
     "output_type": "execute_result"
    }
   ],
   "source": [
    "# untuk dua kondisi, kita bisa gunakan operator & sebagai logika AND \n",
    "# dan operator | sebagai logika OR \n",
    "# semua dengan tanda kurung. Contoh:\n",
    "df[(df['W']>0) & (df['Y'] > 1)]"
   ]
  },
  {
   "cell_type": "markdown",
   "metadata": {},
   "source": [
    "# Percobaan 8:\n",
    "dari percobaan 5, asumsikan datasetnya adalah dataset jumlah mahasiswa per tahun di setiap prodi di universitas pertamina. \n",
    "1. Tunjukkan prodi yang jumlah mahasiswanya lebih dari 40 pada tahun 2017 (jika tidak ada, ganti 40 dengan 30)\n",
    "2. Tunjukkan jumlah mahasiswa tahun 2018 dan 2019 saat jumlah mahasiswa pada tahun 2017 lebih dari 40 (jika tidak ada, ganti 40 dengan 30)\n",
    "3. Tunjukkan prodi apa saja yang pada tahun 2016 berjumlah lebih dari 30 dan pada tahun 2018 kurang dari 60"
   ]
  },
  {
   "cell_type": "code",
   "execution_count": 135,
   "metadata": {},
   "outputs": [
    {
     "data": {
      "text/plain": [
       "ilkom                     64.0\n",
       "kimia                     65.0\n",
       "Elektro                   60.0\n",
       "Ekonomi                   58.0\n",
       "Sipil                     47.0\n",
       "GeoFisika                 72.0\n",
       "Geologi                   78.0\n",
       "Teknik Kimia              41.0\n",
       "Lingkungan                 NaN\n",
       "Komunikasi                99.0\n",
       "Hubungan Internasional    98.0\n",
       "Minyak                     NaN\n",
       "Mesin                     90.0\n",
       "Management                82.0\n",
       "Logistik                  91.0\n",
       "Name: 2017, dtype: float64"
      ]
     },
     "execution_count": 135,
     "metadata": {},
     "output_type": "execute_result"
    }
   ],
   "source": [
    "# Jawaban 1:\n",
    "data[data>40][\"2017\"]"
   ]
  },
  {
   "cell_type": "code",
   "execution_count": 136,
   "metadata": {},
   "outputs": [
    {
     "data": {
      "text/html": [
       "<div>\n",
       "<style scoped>\n",
       "    .dataframe tbody tr th:only-of-type {\n",
       "        vertical-align: middle;\n",
       "    }\n",
       "\n",
       "    .dataframe tbody tr th {\n",
       "        vertical-align: top;\n",
       "    }\n",
       "\n",
       "    .dataframe thead th {\n",
       "        text-align: right;\n",
       "    }\n",
       "</style>\n",
       "<table border=\"1\" class=\"dataframe\">\n",
       "  <thead>\n",
       "    <tr style=\"text-align: right;\">\n",
       "      <th></th>\n",
       "      <th>2018</th>\n",
       "      <th>2019</th>\n",
       "    </tr>\n",
       "  </thead>\n",
       "  <tbody>\n",
       "    <tr>\n",
       "      <th>Lingkungan</th>\n",
       "      <td>31</td>\n",
       "      <td>49</td>\n",
       "    </tr>\n",
       "    <tr>\n",
       "      <th>Minyak</th>\n",
       "      <td>82</td>\n",
       "      <td>25</td>\n",
       "    </tr>\n",
       "  </tbody>\n",
       "</table>\n",
       "</div>"
      ],
      "text/plain": [
       "            2018  2019\n",
       "Lingkungan    31    49\n",
       "Minyak        82    25"
      ]
     },
     "execution_count": 136,
     "metadata": {},
     "output_type": "execute_result"
    }
   ],
   "source": [
    "# Jawaban 2:\n",
    "data[data[\"2017\"]<40][[\"2018\",\"2019\"]]"
   ]
  },
  {
   "cell_type": "code",
   "execution_count": 137,
   "metadata": {},
   "outputs": [
    {
     "data": {
      "text/html": [
       "<div>\n",
       "<style scoped>\n",
       "    .dataframe tbody tr th:only-of-type {\n",
       "        vertical-align: middle;\n",
       "    }\n",
       "\n",
       "    .dataframe tbody tr th {\n",
       "        vertical-align: top;\n",
       "    }\n",
       "\n",
       "    .dataframe thead th {\n",
       "        text-align: right;\n",
       "    }\n",
       "</style>\n",
       "<table border=\"1\" class=\"dataframe\">\n",
       "  <thead>\n",
       "    <tr style=\"text-align: right;\">\n",
       "      <th></th>\n",
       "      <th>2016</th>\n",
       "      <th>2017</th>\n",
       "      <th>2018</th>\n",
       "      <th>2019</th>\n",
       "      <th>2020</th>\n",
       "    </tr>\n",
       "  </thead>\n",
       "  <tbody>\n",
       "    <tr>\n",
       "      <th>kimia</th>\n",
       "      <td>34</td>\n",
       "      <td>65</td>\n",
       "      <td>59</td>\n",
       "      <td>54</td>\n",
       "      <td>61</td>\n",
       "    </tr>\n",
       "    <tr>\n",
       "      <th>Ekonomi</th>\n",
       "      <td>49</td>\n",
       "      <td>58</td>\n",
       "      <td>39</td>\n",
       "      <td>39</td>\n",
       "      <td>86</td>\n",
       "    </tr>\n",
       "    <tr>\n",
       "      <th>Lingkungan</th>\n",
       "      <td>72</td>\n",
       "      <td>23</td>\n",
       "      <td>31</td>\n",
       "      <td>49</td>\n",
       "      <td>87</td>\n",
       "    </tr>\n",
       "    <tr>\n",
       "      <th>Hubungan Internasional</th>\n",
       "      <td>73</td>\n",
       "      <td>98</td>\n",
       "      <td>37</td>\n",
       "      <td>81</td>\n",
       "      <td>28</td>\n",
       "    </tr>\n",
       "    <tr>\n",
       "      <th>Logistik</th>\n",
       "      <td>71</td>\n",
       "      <td>91</td>\n",
       "      <td>53</td>\n",
       "      <td>96</td>\n",
       "      <td>60</td>\n",
       "    </tr>\n",
       "  </tbody>\n",
       "</table>\n",
       "</div>"
      ],
      "text/plain": [
       "                        2016  2017  2018  2019  2020\n",
       "kimia                     34    65    59    54    61\n",
       "Ekonomi                   49    58    39    39    86\n",
       "Lingkungan                72    23    31    49    87\n",
       "Hubungan Internasional    73    98    37    81    28\n",
       "Logistik                  71    91    53    96    60"
      ]
     },
     "execution_count": 137,
     "metadata": {},
     "output_type": "execute_result"
    }
   ],
   "source": [
    "# Jawaban 3:\n",
    "data[(data[\"2016\"]>30) & (data[\"2018\"]<60)]"
   ]
  }
 ],
 "metadata": {
  "kernelspec": {
   "display_name": "Python 3 (ipykernel)",
   "language": "python",
   "name": "python3"
  },
  "language_info": {
   "codemirror_mode": {
    "name": "ipython",
    "version": 3
   },
   "file_extension": ".py",
   "mimetype": "text/x-python",
   "name": "python",
   "nbconvert_exporter": "python",
   "pygments_lexer": "ipython3",
   "version": "3.11.1"
  }
 },
 "nbformat": 4,
 "nbformat_minor": 4
}
